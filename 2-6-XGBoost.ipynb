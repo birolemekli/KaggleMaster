{
 "cells": [
  {
   "cell_type": "markdown",
   "metadata": {},
   "source": [
    "<div class=\"alert alert-block alert-success\">\n",
    "    <b><h2>XGBoost Algoritması</h2></b> \n",
    "    <ul>\n",
    "    <br><li> XGBoost karar ağaçları (decision tree) temell ve gradyan artrmalı bir makine öğrenmesi algoritmasıdır.<li> Neden XGBoost popüler biraz incelerserk\n",
    "        <ul>\n",
    "        <li> Yüksek başarım oranı elde etmesi\n",
    "        <li> Regularizasyon işlemleri gerçekleştirmesi\n",
    "        <li> Kaynak kullanımı dengelemek için optimizasyon\n",
    "        <li> Dağıtık hesaplama\n",
    "        <li> Cross validation yapabilmesi\n",
    "        <li> Veri setindeki boş değerler ile başa çıkabilmesi\n",
    "        </ul>\n",
    "    </ul>\n",
    "    <b><h3>RandomForestRegressor bazı parametreleri</h3></b>\n",
    "    <ul>\n",
    "        <li><b>n_estimators:</b> Ormandaki ağaç sayısı\n",
    "        <li><b>early_stopping_rounds:</b> Overfitting önlemek için erken durdurma\n",
    "        <li><b>criterion:</b> Başarım ölçme metriği  \n",
    "        <li><b>eval_set:</b> early_stopping_rounds için doğrulamada verilecek veri seti için \n",
    "        <li><b>learning_rate:</b> Overfitting önlemek için öğrenme oranı\n",
    "    </ul>\n",
    "</div>\n",
    "\n",
    "#### Bu bölümde işlenecek konular\n",
    "\n",
    "1. [XGBoost Model Oluşturma ve eğitme](#bir)\n"
   ]
  },
  {
   "cell_type": "code",
   "execution_count": 43,
   "metadata": {},
   "outputs": [],
   "source": [
    "import pandas as pd\n",
    "from xgboost import XGBRegressor\n",
    "from sklearn.metrics import mean_absolute_error\n",
    "from sklearn.model_selection import train_test_split"
   ]
  },
  {
   "cell_type": "code",
   "execution_count": 44,
   "metadata": {},
   "outputs": [],
   "source": [
    "data=pd.read_csv('./Data/melbourne-housing-snapshot/melb_data.csv')"
   ]
  },
  {
   "cell_type": "code",
   "execution_count": 45,
   "metadata": {},
   "outputs": [
    {
     "data": {
      "text/plain": [
       "Index(['Suburb', 'Address', 'Rooms', 'Type', 'Price', 'Method', 'SellerG',\n",
       "       'Date', 'Distance', 'Postcode', 'Bedroom2', 'Bathroom', 'Car',\n",
       "       'Landsize', 'BuildingArea', 'YearBuilt', 'CouncilArea', 'Lattitude',\n",
       "       'Longtitude', 'Regionname', 'Propertycount'],\n",
       "      dtype='object')"
      ]
     },
     "execution_count": 45,
     "metadata": {},
     "output_type": "execute_result"
    }
   ],
   "source": [
    "data.columns"
   ]
  },
  {
   "cell_type": "code",
   "execution_count": 46,
   "metadata": {},
   "outputs": [],
   "source": [
    "features=['Rooms', 'Distance', 'Landsize', 'BuildingArea', 'YearBuilt']\n",
    "X=data[features]"
   ]
  },
  {
   "cell_type": "code",
   "execution_count": 47,
   "metadata": {},
   "outputs": [],
   "source": [
    "y=data.Price"
   ]
  },
  {
   "cell_type": "code",
   "execution_count": 48,
   "metadata": {},
   "outputs": [],
   "source": [
    "X_train,X_test,y_train,y_test=train_test_split(X,y,random_state=0)"
   ]
  },
  {
   "cell_type": "markdown",
   "metadata": {},
   "source": [
    "<div id=\"bir\"  style=\"color:blue;\"> 1. XGBoost modeli oluşturma</div>"
   ]
  },
  {
   "cell_type": "code",
   "execution_count": 49,
   "metadata": {},
   "outputs": [
    {
     "name": "stdout",
     "output_type": "stream",
     "text": [
      "239431.96930228276\n"
     ]
    }
   ],
   "source": [
    "model = XGBRegressor(n_estimators=1000,learning_rate=0.5,n_jobs=4)\n",
    "model.fit(X_train, y_train, \n",
    "             early_stopping_rounds=500, \n",
    "             eval_set=[(X_test, y_test)],\n",
    "             verbose=False)\n",
    "pred=model_rf.predict(X_test)\n",
    "print(mean_absolute_error(y_test,pred))"
   ]
  },
  {
   "cell_type": "code",
   "execution_count": null,
   "metadata": {},
   "outputs": [],
   "source": []
  }
 ],
 "metadata": {
  "kernelspec": {
   "display_name": "Python 3",
   "language": "python",
   "name": "python3"
  },
  "language_info": {
   "codemirror_mode": {
    "name": "ipython",
    "version": 3
   },
   "file_extension": ".py",
   "mimetype": "text/x-python",
   "name": "python",
   "nbconvert_exporter": "python",
   "pygments_lexer": "ipython3",
   "version": "3.8.1"
  }
 },
 "nbformat": 4,
 "nbformat_minor": 4
}
